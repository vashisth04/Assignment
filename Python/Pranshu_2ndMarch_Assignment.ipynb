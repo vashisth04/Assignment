{
 "cells": [
  {
   "cell_type": "markdown",
   "id": "96aba147",
   "metadata": {},
   "source": [
    "1) Create a python program to find duplicate files by content. User will input path and it will scan all directories, sub-   directories to find all duplicates files.\n",
    "Delete the found duplicate file."
   ]
  },
  {
   "cell_type": "code",
   "execution_count": 4,
   "id": "8011788e",
   "metadata": {},
   "outputs": [
    {
     "name": "stdout",
     "output_type": "stream",
     "text": [
      "Enter pathC:/Users/pvashishth/Desktop/New folder/\n",
      "The path of files which are removed are:-\n",
      "C:/Users/pvashishth/Desktop/New folder/text_3.txt\n"
     ]
    }
   ],
   "source": [
    "import os\n",
    "import hashlib\n",
    "def hs(input):\n",
    "    byte_input=input.encode()\n",
    "    hash_object=hashlib.sha256(byte_input)\n",
    "    return hash_object.hexdigest()\n",
    "\n",
    "#path = C:/Users/pvashishth/Desktop/New folder/\n",
    "path=input(\"Enter path\")\n",
    "filelist = {}\n",
    "print(\"The path of files which are removed are:-\")\n",
    "for root, dirs, files in os.walk(path):\n",
    "    for file in files:\n",
    "        #append the file name to the list\n",
    "        x=os.path.join(root,file)\n",
    "        l=open(x)\n",
    "        a=l.read()\n",
    "        l.close()\n",
    "        a=hs(a)\n",
    "        if a in filelist.keys():\n",
    "            os.remove(x)\n",
    "            print(x)\n",
    "        else:\n",
    "            filelist[a]=x"
   ]
  },
  {
   "cell_type": "markdown",
   "id": "e6996b42",
   "metadata": {},
   "source": [
    "2 )Generate random Password with exact length = 6, with minimum 1 uppercase, 2 lowercase, 2 digits, and remaining special characters.\n",
    "Using these packages [random, strings]"
   ]
  },
  {
   "cell_type": "code",
   "execution_count": 9,
   "id": "151bbc2a",
   "metadata": {},
   "outputs": [
    {
     "name": "stdout",
     "output_type": "stream",
     "text": [
      "7R~7oj\n"
     ]
    }
   ],
   "source": [
    "import random\n",
    "import string\n",
    "lowercase=string.ascii_lowercase\n",
    "uppercase=string.ascii_uppercase\n",
    "digits=string.digits\n",
    "l=[]\n",
    "l.append(random.choice(uppercase))\n",
    "for i in range(2):\n",
    "    l.append(random.choice(lowercase))\n",
    "for i in range(2):\n",
    "    l.append(random.choice(digits))\n",
    "l.append(random.choice(string.punctuation))\n",
    "paragraph=''\n",
    "while len(l)>0:\n",
    "    c=random.choice(l)\n",
    "    paragraph+=c\n",
    "    l.remove(c)\n",
    "print(paragraph)"
   ]
  },
  {
   "cell_type": "markdown",
   "id": "0374b8d5",
   "metadata": {},
   "source": [
    "3) Create 2D array and update the same 2D array provided that every prime number position should be replaced by cube of the positioned number."
   ]
  },
  {
   "cell_type": "code",
   "execution_count": 10,
   "id": "4f195b02",
   "metadata": {},
   "outputs": [
    {
     "name": "stdout",
     "output_type": "stream",
     "text": [
      "Input:-\n",
      "[[  2   3   4  66]\n",
      " [ 25  31  42 656]\n",
      " [222  43  47 646]\n",
      " [ 22  31  14 166]]\n",
      "Output:-\n",
      "[[        8        27        64    287496]\n",
      " [       25     29791        42 282300416]\n",
      " [      222        43        47 269586136]\n",
      " [       22     29791        14       166]]\n"
     ]
    }
   ],
   "source": [
    "import numpy as np\n",
    "import math\n",
    "\n",
    "def isPrime(n):\n",
    "    for i in range(2,(n//2)+1):\n",
    "        if n%i==0:\n",
    "            return False\n",
    "    return True\n",
    "\n",
    "l=[[2,3,4,66],\n",
    "  [25,31,42,656],\n",
    "  [222,43,47,646],\n",
    "  [22,31,14,166]]\n",
    "s=int(len(l))\n",
    "arr=np.array(l).reshape(s,s)\n",
    "print('Input:-')\n",
    "print(arr)\n",
    "\n",
    "for i in range(s):\n",
    "    for j in range(s):\n",
    "        xx=i*s+j\n",
    "        x=arr[i][j]\n",
    "        arr[i][j]=x*x*x if isPrime(xx) else x\n",
    "\n",
    "print('Output:-')        \n",
    "print(arr)\n"
   ]
  },
  {
   "cell_type": "markdown",
   "id": "ef5b752a",
   "metadata": {},
   "source": [
    "4) Python program to get the sum of every cubed value and its previous integer."
   ]
  },
  {
   "cell_type": "code",
   "execution_count": 12,
   "id": "1d5b6de1",
   "metadata": {},
   "outputs": [
    {
     "name": "stdout",
     "output_type": "stream",
     "text": [
      "552234310\n"
     ]
    }
   ],
   "source": [
    "def isCube(n):\n",
    "    if n**(1/3)==abs(n**(1/3)):\n",
    "        return True\n",
    "    return False\n",
    "answer=0\n",
    "for i in range(s):\n",
    "    for j in range(s):\n",
    "        answer+=arr[i][j] if isCube(arr[i][j]) else 0\n",
    "print(answer)"
   ]
  },
  {
   "cell_type": "markdown",
   "id": "d471ca19",
   "metadata": {},
   "source": [
    "5) Given two arrays, find their intersection."
   ]
  },
  {
   "cell_type": "code",
   "execution_count": 13,
   "id": "907cac57",
   "metadata": {},
   "outputs": [
    {
     "name": "stdout",
     "output_type": "stream",
     "text": [
      "[30 50]\n"
     ]
    }
   ],
   "source": [
    "import numpy as np\n",
    "arr1=np.array([10,30,40,50,70])\n",
    "arr2=np.array([20,30,50,60])\n",
    "print(np.intersect1d(arr1,arr2))"
   ]
  },
  {
   "cell_type": "markdown",
   "id": "1d0b4f38",
   "metadata": {},
   "source": [
    "6) Create a 7 x 7 2D array having only multiples of 7. And return the last element of the same."
   ]
  },
  {
   "cell_type": "code",
   "execution_count": 14,
   "id": "2017542d",
   "metadata": {},
   "outputs": [
    {
     "name": "stdout",
     "output_type": "stream",
     "text": [
      "[[  7  14  21  28  35  42  49]\n",
      " [ 56  63  70  77  84  91  98]\n",
      " [105 112 119 126 133 140 147]\n",
      " [154 161 168 175 182 189 196]\n",
      " [203 210 217 224 231 238 245]\n",
      " [252 259 266 273 280 287 294]\n",
      " [301 308 315 322 329 336 343]]\n",
      "343\n"
     ]
    }
   ],
   "source": [
    "arr = np.ones((7,7),\"int64\")\n",
    "\n",
    "position=1\n",
    "for i in range(7):\n",
    "    for j in range(7):\n",
    "        if i==0 and j==0:\n",
    "            arr[0][0]=7\n",
    "            position+=1\n",
    "        else:\n",
    "            arr[i][j]=7*position\n",
    "            position+=1\n",
    "            \n",
    "print(arr)\n",
    "print(arr[6][6])"
   ]
  },
  {
   "cell_type": "markdown",
   "id": "a2f4bf6d",
   "metadata": {},
   "source": [
    "7) Checker Board Patten using Numpy:"
   ]
  },
  {
   "cell_type": "code",
   "execution_count": 15,
   "id": "7400ef73",
   "metadata": {},
   "outputs": [
    {
     "name": "stdout",
     "output_type": "stream",
     "text": [
      "[[1. 0. 1. 0. 1.]\n",
      " [0. 1. 0. 1. 0.]\n",
      " [1. 0. 1. 0. 1.]\n",
      " [0. 1. 0. 1. 0.]\n",
      " [1. 0. 1. 0. 1.]\n",
      " [0. 1. 0. 1. 0.]\n",
      " [1. 0. 1. 0. 1.]]\n"
     ]
    }
   ],
   "source": [
    "x = np.ones((7, 5))\n",
    "x[1::2, ::2] = 0\n",
    "x[::2, 1::2] = 0\n",
    "print(x)"
   ]
  },
  {
   "cell_type": "markdown",
   "id": "a59bd1e6",
   "metadata": {},
   "source": [
    "8) Create a given Matrix:\n",
    "[ A, B, C, D E, F, G, H I, a, K, L M, N, o, P Q, R, S, T U, 0, W, O ]\n",
    "\n",
    "Replace all the vowels by np.nan A, E, I, O U -- > np.nan Return the count of the missing values"
   ]
  },
  {
   "cell_type": "code",
   "execution_count": 17,
   "id": "3f493fed",
   "metadata": {},
   "outputs": [
    {
     "name": "stdout",
     "output_type": "stream",
     "text": [
      "[['A', 'B', 'C', 'D'], ['E', 'F', 'G', 'H'], ['I', 'a', 'K', 'L'], ['M', 'N', 'o', 'P'], ['Q', 'R', 'S', 'T'], ['U', '0', 'W', 'O']]\n",
      "[[nan, 'B', 'C', 'D'], [nan, 'F', 'G', 'H'], [nan, nan, 'K', 'L'], ['M', 'N', nan, 'P'], ['Q', 'R', 'S', 'T'], [nan, '0', 'W', nan]]\n",
      "7\n"
     ]
    }
   ],
   "source": [
    "import numpy as np\n",
    "l=[[ 'A','B', 'C', 'D'],\n",
    "   ['E', 'F', 'G', 'H' ],\n",
    "   ['I', 'a', 'K', 'L' ],\n",
    "   ['M', 'N', 'o', 'P' ],\n",
    "   ['Q', 'R', 'S', 'T' ],\n",
    "   ['U', '0', 'W', 'O' ]]\n",
    "print(l)\n",
    "def vowel(a):\n",
    "    a=a.lower()\n",
    "    if a in {'a','e','i','o','u'}:\n",
    "        return True\n",
    "    return False\n",
    "\n",
    "count=0\n",
    "for i in range(len(l)):\n",
    "    for j in range(len(l[0])):\n",
    "        if vowel(l[i][j]) :\n",
    "            l[i][j]=np.nan\n",
    "            count+=1\n",
    "\n",
    "print(l)\n",
    "\n",
    "print(count)"
   ]
  },
  {
   "cell_type": "code",
   "execution_count": null,
   "id": "24bb26a0",
   "metadata": {},
   "outputs": [],
   "source": []
  }
 ],
 "metadata": {
  "kernelspec": {
   "display_name": "Python 3 (ipykernel)",
   "language": "python",
   "name": "python3"
  },
  "language_info": {
   "codemirror_mode": {
    "name": "ipython",
    "version": 3
   },
   "file_extension": ".py",
   "mimetype": "text/x-python",
   "name": "python",
   "nbconvert_exporter": "python",
   "pygments_lexer": "ipython3",
   "version": "3.9.13"
  }
 },
 "nbformat": 4,
 "nbformat_minor": 5
}
